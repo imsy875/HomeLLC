{
  "nbformat": 4,
  "nbformat_minor": 0,
  "metadata": {
    "kernelspec": {
      "display_name": "Python 3",
      "language": "python",
      "name": "python3"
    },
    "language_info": {
      "codemirror_mode": {
        "name": "ipython",
        "version": 3
      },
      "file_extension": ".py",
      "mimetype": "text/x-python",
      "name": "python",
      "nbconvert_exporter": "python",
      "pygments_lexer": "ipython3",
      "version": "3.7.6"
    },
    "colab": {
      "name": "muskan.ipynb",
      "provenance": []
    }
  },
  "cells": [
    {
      "cell_type": "code",
      "metadata": {
        "id": "XtgR1jfJuV6A"
      },
      "source": [
        "import numpy as np\n",
        "import pandas as pd\n",
        "import seaborn as sns\n",
        "import matplotlib.pyplot as plt"
      ],
      "execution_count": 1,
      "outputs": []
    },
    {
      "cell_type": "code",
      "metadata": {
        "id": "E3jIfjeNuV6P"
      },
      "source": [
        "url_data=\"https://raw.githubusercontent.com/imsy875/House-Prices-Advanced-/main/house_data(Scaled).csv\"\n",
        "url_target=\"https://raw.githubusercontent.com/imsy875/House-Prices-Advanced-/main/target.csv\""
      ],
      "execution_count": 2,
      "outputs": []
    },
    {
      "cell_type": "code",
      "metadata": {
        "id": "HSx3jEnPuV6R"
      },
      "source": [
        "data=pd.read_csv(url_data)\n",
        "y=pd.read_csv(url_target)"
      ],
      "execution_count": 3,
      "outputs": []
    },
    {
      "cell_type": "code",
      "metadata": {
        "colab": {
          "base_uri": "https://localhost:8080/"
        },
        "id": "vRjVoFYLuV6S",
        "outputId": "2a3b8971-53d7-491f-97f4-aa3f600eaa74"
      },
      "source": [
        "from sklearn.ensemble import RandomForestRegressor\n",
        "from mlxtend.feature_selection import SequentialFeatureSelector as SFS\n",
        "from sklearn.model_selection import cross_val_score\n",
        "from sklearn.model_selection import GridSearchCV\n",
        "from xgboost import XGBRegressor"
      ],
      "execution_count": 4,
      "outputs": [
        {
          "output_type": "stream",
          "text": [
            "/usr/local/lib/python3.6/dist-packages/sklearn/externals/joblib/__init__.py:15: FutureWarning: sklearn.externals.joblib is deprecated in 0.21 and will be removed in 0.23. Please import this functionality directly from joblib, which can be installed with: pip install joblib. If this warning is raised when loading pickled models, you may need to re-serialize those models with scikit-learn 0.21+.\n",
            "  warnings.warn(msg, category=FutureWarning)\n"
          ],
          "name": "stderr"
        }
      ]
    },
    {
      "cell_type": "code",
      "metadata": {
        "id": "Df4BrmeJuV6T"
      },
      "source": [
        "parameters = {\"n_estimators\":[800],\"max_depth\":[10,15,21,27],\"learning_rate\":[0.05],\n",
        "              \"reg_alpha\":[0.12],\"reg_lambda\":[15]}\n",
        "xgb_model=XGBRegressor()\n",
        "\n",
        "grid_xgb2 = GridSearchCV(xgb_model,param_grid=parameters,n_jobs=-1,cv=10,verbose=2)"
      ],
      "execution_count": 6,
      "outputs": []
    },
    {
      "cell_type": "code",
      "metadata": {
        "colab": {
          "base_uri": "https://localhost:8080/"
        },
        "id": "Tee-25w4uV6W",
        "outputId": "bb040b8c-4a3d-4413-9450-068c19cfc449"
      },
      "source": [
        "feature_selection_all = SFS(grid_xgb2,k_features=(30),verbose=2,cv=4,n_jobs=-1)\n",
        "feature_selection_all.fit(data,y)"
      ],
      "execution_count": 7,
      "outputs": [
        {
          "output_type": "stream",
          "text": [
            "[Parallel(n_jobs=-1)]: Using backend LokyBackend with 2 concurrent workers.\n",
            "[Parallel(n_jobs=-1)]: Done  37 tasks      | elapsed: 35.3min\n",
            "[Parallel(n_jobs=-1)]: Done  76 out of  76 | elapsed: 56.9min finished\n",
            "\n",
            "[2021-02-10 07:55:10] Features: 1/30 -- score: 0.6794173888756407[Parallel(n_jobs=-1)]: Using backend LokyBackend with 2 concurrent workers.\n",
            "[Parallel(n_jobs=-1)]: Done  37 tasks      | elapsed: 58.0min\n",
            "[Parallel(n_jobs=-1)]: Done  75 out of  75 | elapsed: 100.7min finished\n",
            "\n",
            "[2021-02-10 09:35:52] Features: 2/30 -- score: 0.7468140197169566[Parallel(n_jobs=-1)]: Using backend LokyBackend with 2 concurrent workers.\n",
            "[Parallel(n_jobs=-1)]: Done  37 tasks      | elapsed: 93.8min\n",
            "[Parallel(n_jobs=-1)]: Done  74 out of  74 | elapsed: 172.7min finished\n",
            "\n",
            "[2021-02-10 12:28:35] Features: 3/30 -- score: 0.7999628679614702[Parallel(n_jobs=-1)]: Using backend LokyBackend with 2 concurrent workers.\n",
            "\n",
            "STOPPING EARLY DUE TO KEYBOARD INTERRUPT..."
          ],
          "name": "stderr"
        },
        {
          "output_type": "execute_result",
          "data": {
            "text/plain": [
              "SequentialFeatureSelector(clone_estimator=True, cv=4,\n",
              "                          estimator=GridSearchCV(cv=10, error_score=nan,\n",
              "                                                 estimator=XGBRegressor(base_score=0.5,\n",
              "                                                                        booster='gbtree',\n",
              "                                                                        colsample_bylevel=1,\n",
              "                                                                        colsample_bynode=1,\n",
              "                                                                        colsample_bytree=1,\n",
              "                                                                        gamma=0,\n",
              "                                                                        importance_type='gain',\n",
              "                                                                        learning_rate=0.1,\n",
              "                                                                        max_delta_step=0,\n",
              "                                                                        max_depth=3,\n",
              "                                                                        min_child_weight=1,\n",
              "                                                                        missing=None,\n",
              "                                                                        n_estimators=100,\n",
              "                                                                        n_jobs=1,\n",
              "                                                                        nthr...\n",
              "                                                                        subsample=1,\n",
              "                                                                        verbosity=1),\n",
              "                                                 iid='deprecated', n_jobs=-1,\n",
              "                                                 param_grid={'learning_rate': [0.05],\n",
              "                                                             'max_depth': [10,\n",
              "                                                                           15,\n",
              "                                                                           21,\n",
              "                                                                           27],\n",
              "                                                             'n_estimators': [800],\n",
              "                                                             'reg_alpha': [0.12],\n",
              "                                                             'reg_lambda': [15]},\n",
              "                                                 pre_dispatch='2*n_jobs',\n",
              "                                                 refit=True,\n",
              "                                                 return_train_score=False,\n",
              "                                                 scoring=None, verbose=2),\n",
              "                          floating=False, forward=True, k_features=30,\n",
              "                          n_jobs=-1, pre_dispatch='2*n_jobs', scoring=None,\n",
              "                          verbose=2)"
            ]
          },
          "metadata": {
            "tags": []
          },
          "execution_count": 7
        }
      ]
    },
    {
      "cell_type": "code",
      "metadata": {
        "colab": {
          "base_uri": "https://localhost:8080/"
        },
        "id": "KdKEafYJuV6W",
        "outputId": "72262e76-283c-4527-9628-aa609a475a4c"
      },
      "source": [
        "feature_selection_all.k_feature_names_"
      ],
      "execution_count": 9,
      "outputs": [
        {
          "output_type": "execute_result",
          "data": {
            "text/plain": [
              "('OverallQual', 'GrLivArea', 'Neighborhood')"
            ]
          },
          "metadata": {
            "tags": []
          },
          "execution_count": 9
        }
      ]
    }
  ]
}